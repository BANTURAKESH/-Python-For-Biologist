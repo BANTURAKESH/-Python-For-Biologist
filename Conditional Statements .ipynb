{
 "cells": [
  {
   "cell_type": "code",
   "execution_count": 1,
   "id": "55f2c148",
   "metadata": {},
   "outputs": [],
   "source": [
    "#write a program to determine whether a person is eligible to vote"
   ]
  },
  {
   "cell_type": "code",
   "execution_count": 4,
   "id": "21a592bf",
   "metadata": {},
   "outputs": [
    {
     "name": "stdout",
     "output_type": "stream",
     "text": [
      "Enter your age\n",
      "None20\n",
      "you are eligible for vote\n",
      "your age is\n",
      "20\n"
     ]
    }
   ],
   "source": [
    "age = int(input(print(\"Enter your age\")))\n",
    "if (age>=18):\n",
    "    print(\"you are eligible for vote\")\n",
    "print(\"your age is\")\n",
    "print(age)"
   ]
  },
  {
   "cell_type": "code",
   "execution_count": 8,
   "id": "6df8dafe",
   "metadata": {},
   "outputs": [
    {
     "name": "stdout",
     "output_type": "stream",
     "text": [
      "Enter any character\n",
      "None   \n",
      "character is space\n"
     ]
    }
   ],
   "source": [
    "# write a python code to check the entered character is alphabet or digit\n",
    "\n",
    "ch = input(print(\"Enter any character\"))\n",
    "if(ch.isalpha()):\n",
    "    print(\"charactor is alphabet\")\n",
    "if(ch.isdigit()):\n",
    "    print(\"character is digit\")\n",
    "if(ch.isspace()):\n",
    "    print(\"character is space\")\n",
    "    "
   ]
  },
  {
   "cell_type": "code",
   "execution_count": null,
   "id": "fc391f49",
   "metadata": {},
   "outputs": [],
   "source": []
  }
 ],
 "metadata": {
  "kernelspec": {
   "display_name": "Python 3 (ipykernel)",
   "language": "python",
   "name": "python3"
  },
  "language_info": {
   "codemirror_mode": {
    "name": "ipython",
    "version": 3
   },
   "file_extension": ".py",
   "mimetype": "text/x-python",
   "name": "python",
   "nbconvert_exporter": "python",
   "pygments_lexer": "ipython3",
   "version": "3.9.12"
  }
 },
 "nbformat": 4,
 "nbformat_minor": 5
}
