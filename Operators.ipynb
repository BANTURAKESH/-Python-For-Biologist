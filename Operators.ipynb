{
 "cells": [
  {
   "cell_type": "markdown",
   "id": "9465907d",
   "metadata": {},
   "source": [
    "# Arithmetic Operators\n",
    "* Addition +\n",
    "* Subtraction  -\n",
    "* Multiplication *\n",
    "* Division /\n",
    "* Floor division //\n",
    "* Modulus %\n",
    "* Exponentiation(**) To power the values"
   ]
  },
  {
   "cell_type": "code",
   "execution_count": 1,
   "id": "10265f25",
   "metadata": {},
   "outputs": [
    {
     "name": "stdout",
     "output_type": "stream",
     "text": [
      "13\n"
     ]
    }
   ],
   "source": [
    "a = 10\n",
    "b = 3\n",
    "c = a+b\n",
    "print(c)"
   ]
  },
  {
   "cell_type": "code",
   "execution_count": 2,
   "id": "058d2ff0",
   "metadata": {},
   "outputs": [
    {
     "name": "stdout",
     "output_type": "stream",
     "text": [
      "7\n"
     ]
    }
   ],
   "source": [
    "a = 10\n",
    "b = 3\n",
    "c = a-b\n",
    "print(c)"
   ]
  },
  {
   "cell_type": "code",
   "execution_count": 3,
   "id": "a5937e96",
   "metadata": {},
   "outputs": [
    {
     "name": "stdout",
     "output_type": "stream",
     "text": [
      "3.3333333333333335\n"
     ]
    }
   ],
   "source": [
    "a = 10\n",
    "b = 3\n",
    "c = a/b\n",
    "print(c)"
   ]
  },
  {
   "cell_type": "code",
   "execution_count": 4,
   "id": "9b5fa51c",
   "metadata": {},
   "outputs": [
    {
     "name": "stdout",
     "output_type": "stream",
     "text": [
      "3\n"
     ]
    }
   ],
   "source": [
    "a = 10\n",
    "b = 3\n",
    "c = a//b\n",
    "print(c)"
   ]
  },
  {
   "cell_type": "code",
   "execution_count": 5,
   "id": "83d4d8f2",
   "metadata": {},
   "outputs": [
    {
     "name": "stdout",
     "output_type": "stream",
     "text": [
      "1\n"
     ]
    }
   ],
   "source": [
    "a = 10\n",
    "b = 3\n",
    "c = a%b\n",
    "print(c)"
   ]
  },
  {
   "cell_type": "code",
   "execution_count": 6,
   "id": "3431c8fb",
   "metadata": {},
   "outputs": [
    {
     "name": "stdout",
     "output_type": "stream",
     "text": [
      "1000\n"
     ]
    }
   ],
   "source": [
    "a = 10\n",
    "b = 3\n",
    "c = a**b\n",
    "print(c)"
   ]
  },
  {
   "cell_type": "markdown",
   "id": "c32b3c4f",
   "metadata": {},
   "source": [
    "# Computing avarage of two given numbers"
   ]
  },
  {
   "cell_type": "code",
   "execution_count": 8,
   "id": "0e54cede",
   "metadata": {},
   "outputs": [
    {
     "name": "stdout",
     "output_type": "stream",
     "text": [
      "Enter the first number: 10\n",
      "Enetr the second number: 11\n",
      "Average of the Two given numbers is :  10.5\n"
     ]
    }
   ],
   "source": [
    "a = int(input(\"Enter the first number: \"))\n",
    "b = int(input(\"Enetr the second number: \"))\n",
    "AVG = (a+b)/2\n",
    "\n",
    "print(\"Average of the Two given numbers is : \", AVG)"
   ]
  },
  {
   "cell_type": "markdown",
   "id": "e65ed23d",
   "metadata": {},
   "source": [
    "# Computing area and Circumference of Circle"
   ]
  },
  {
   "cell_type": "code",
   "execution_count": 9,
   "id": "4e3a0fe9",
   "metadata": {},
   "outputs": [
    {
     "name": "stdout",
     "output_type": "stream",
     "text": [
      "Enter radius: 5\n",
      "Area of circle =  78.53\n",
      "Circumference of circle =  31.412\n"
     ]
    }
   ],
   "source": [
    "radius = float(input(\"Enter radius: \"))\n",
    "area = 3.1412 * radius * radius\n",
    "circumference = 2 * 3.1412 * radius\n",
    "\n",
    "print(\"Area of circle = \", area)\n",
    "print(\"Circumference of circle = \" ,circumference)"
   ]
  },
  {
   "cell_type": "markdown",
   "id": "d77accba",
   "metadata": {},
   "source": [
    "# Relational Operator\n",
    "* (>) Greater than: True if the left operand is greater than the right\n",
    "* (<) Less than: True if the left operand is less than the right\n",
    "* (==) Equal to: True if both operands are equal\n",
    "* (!=) Not equal to – True if operands are not equal\n",
    "* (>=) Greater than or equal to: True if left operand is greater than or equal to the right"
   ]
  },
  {
   "cell_type": "markdown",
   "id": "39735679",
   "metadata": {},
   "source": [
    "# Logical Operators"
   ]
  },
  {
   "cell_type": "markdown",
   "id": "26b5ffeb",
   "metadata": {},
   "source": [
    "# AND Returns True if both statements are true"
   ]
  },
  {
   "cell_type": "code",
   "execution_count": null,
   "id": "ae28b77a",
   "metadata": {},
   "outputs": [],
   "source": [
    "a = 10\n",
    "b = 20\n",
    "c = 30\n",
    "\n",
    "print(a<b and a<c)"
   ]
  },
  {
   "cell_type": "code",
   "execution_count": 11,
   "id": "85528c3f",
   "metadata": {},
   "outputs": [
    {
     "name": "stdout",
     "output_type": "stream",
     "text": [
      "False\n"
     ]
    }
   ],
   "source": [
    "a = 10\n",
    "b = 20\n",
    "c = 30\n",
    "\n",
    "print(a<b and c<a)"
   ]
  },
  {
   "cell_type": "markdown",
   "id": "f9af4abb",
   "metadata": {},
   "source": [
    "# or Returns True if one of the statements is true"
   ]
  },
  {
   "cell_type": "code",
   "execution_count": 13,
   "id": "313e7a22",
   "metadata": {},
   "outputs": [
    {
     "name": "stdout",
     "output_type": "stream",
     "text": [
      "True\n"
     ]
    }
   ],
   "source": [
    "a = 10\n",
    "b = 20\n",
    "c = 30\n",
    "\n",
    "print(a<b or c<a)"
   ]
  },
  {
   "cell_type": "code",
   "execution_count": 14,
   "id": "2ca093e9",
   "metadata": {},
   "outputs": [
    {
     "name": "stdout",
     "output_type": "stream",
     "text": [
      "False\n"
     ]
    }
   ],
   "source": [
    "print(b<a or c<a)"
   ]
  },
  {
   "cell_type": "markdown",
   "id": "0fc08f3a",
   "metadata": {},
   "source": [
    "# not Reverse the result, returns False if the result is true"
   ]
  },
  {
   "cell_type": "code",
   "execution_count": 15,
   "id": "4414a457",
   "metadata": {},
   "outputs": [
    {
     "name": "stdout",
     "output_type": "stream",
     "text": [
      "True\n"
     ]
    }
   ],
   "source": [
    "a = 10\n",
    "b = 20\n",
    "print(not(a>b))"
   ]
  },
  {
   "cell_type": "code",
   "execution_count": null,
   "id": "40b1c795",
   "metadata": {},
   "outputs": [],
   "source": []
  }
 ],
 "metadata": {
  "kernelspec": {
   "display_name": "Python 3 (ipykernel)",
   "language": "python",
   "name": "python3"
  },
  "language_info": {
   "codemirror_mode": {
    "name": "ipython",
    "version": 3
   },
   "file_extension": ".py",
   "mimetype": "text/x-python",
   "name": "python",
   "nbconvert_exporter": "python",
   "pygments_lexer": "ipython3",
   "version": "3.9.12"
  }
 },
 "nbformat": 4,
 "nbformat_minor": 5
}
