{
 "cells": [
  {
   "cell_type": "code",
   "execution_count": 1,
   "id": "9b0380b8",
   "metadata": {},
   "outputs": [],
   "source": [
    "                                          ##Lipinski rule of 5"
   ]
  },
  {
   "cell_type": "code",
   "execution_count": 1,
   "id": "e475b192",
   "metadata": {},
   "outputs": [],
   "source": [
    "#Chemical data about a molecule.\n",
    "#Molecules are defined by SMILES strings. Can work out logP values, Lipinski's \n",
    "#Uses rdkit\n",
    " "
   ]
  },
  {
   "cell_type": "code",
   "execution_count": 1,
   "id": "cab6e3ea",
   "metadata": {},
   "outputs": [],
   "source": [
    "from rdkit import Chem\n",
    "from rdkit.Chem import Crippen\n",
    "from rdkit.Chem import Lipinski\n",
    "from rdkit.Chem import Descriptors\n",
    "from rdkit.Chem import rdmolfiles\n",
    "import rdkit"
   ]
  },
  {
   "cell_type": "code",
   "execution_count": 2,
   "id": "3110bfa6",
   "metadata": {},
   "outputs": [],
   "source": [
    "class SmilesError(Exception): pass\n",
    "\n",
    "def log_partition_coefficient(smiles):\n",
    "    '''\n",
    "    Returns the octanol-water partition coefficient given a molecule SMILES \n",
    "    string\n",
    "    '''\n",
    "    try:\n",
    "        mol = Chem.MolFromSmiles(smiles)\n",
    "    except Exception. e:\n",
    "        raise SmilesError('%s returns a None molecule' % smiles)\n",
    "        \n",
    "    return Crippen.MolLogP(mol)\n",
    "    \n",
    "def lipinski_trial(smiles):\n",
    "    '''\n",
    "    Returns which of Lipinski's rules a molecule has failed, or an empty list\n",
    "    \n",
    "    Lipinski's rules are:\n",
    "    Hydrogen bond donors <= 5\n",
    "    Hydrogen bond acceptors <= 10\n",
    "    Molecular weight < 500 daltons\n",
    "    logP < 5\n",
    "    '''\n",
    "    passed = []\n",
    "    failed = []\n",
    "    \n",
    "    mol= Chem.MolFromSmiles(smiles)\n",
    "    if mol is None:\n",
    "        raise Exception('%s is not a valid SMILES string' % smiles)\n",
    "    \n",
    "    num_hdonors = Lipinski.NumHDonors(mol)\n",
    "    num_hacceptors = Lipinski.NumHAcceptors(mol)\n",
    "    mol_weight = Descriptors.MolWt(mol)\n",
    "    mol_logp = Crippen.MolLogP(mol)\n",
    "    \n",
    "    failed = []\n",
    "    \n",
    "    if num_hdonors > 5:\n",
    "        failed.append('Over 5 H-bond donors, found %s' % num_hdonors)\n",
    "    else:\n",
    "        passed.append('Found %s H-bond donors' % num_hdonors)\n",
    "        \n",
    "    if num_hacceptors > 10:\n",
    "        failed.append('Over 10 H-bond acceptors, found %s' \\\n",
    "        % num_hacceptors)\n",
    "    else:\n",
    "        passed.append('Found %s H-bond acceptors' % num_hacceptors)\n",
    "        \n",
    "    if mol_weight >= 500:\n",
    "        failed.append('Molecular weight over 500, calculated %s'\\\n",
    "        % mol_weight)\n",
    "    else:\n",
    "        passed.append('Molecular weight: %s' % mol_weight)\n",
    "        \n",
    "    if mol_logp >= 5:\n",
    "        failed.append('Log partition coefficient over 5, calculated %s' \\\n",
    "        % mol_logp)\n",
    "    else:\n",
    "        passed.append('Log partition coefficient: %s' % mol_logp)\n",
    "    \n",
    "    return passed, failed\n",
    "    \n",
    "def lipinski_pass(smiles):\n",
    "    '''\n",
    "    Wraps around lipinski trial, but returns a simple pass/fail True/False\n",
    "    '''\n",
    "    passed, failed = lipinski_trial(smiles)\n",
    "    if failed:\n",
    "        return False\n",
    "    else:\n",
    "        return True"
   ]
  },
  {
   "cell_type": "code",
   "execution_count": 3,
   "id": "d46f54fe",
   "metadata": {},
   "outputs": [
    {
     "data": {
      "text/plain": [
       "(['Found 4 H-bond donors',\n",
       "  'Found 4 H-bond acceptors',\n",
       "  'Molecular weight: 197.19',\n",
       "  'Log partition coefficient: 0.05219999999999969'],\n",
       " [])"
      ]
     },
     "execution_count": 3,
     "metadata": {},
     "output_type": "execute_result"
    }
   ],
   "source": [
    "lipinski_trial(\"C1=CC(=C(C=C1C[C@@H](C(=O)O)N)O)O\")"
   ]
  },
  {
   "cell_type": "code",
   "execution_count": 4,
   "id": "d83d5388",
   "metadata": {},
   "outputs": [
    {
     "data": {
      "text/plain": [
       "[False]"
      ]
     },
     "execution_count": 4,
     "metadata": {},
     "output_type": "execute_result"
    }
   ],
   "source": [
    "df = [lipinski_pass(\"O=C1C(C(=S)Nc2ccc(S(=O)(=O)[O-])o2)SC(=S)N1c1cccc(C(F)(F)F)c1.[Na+]\",)]\n",
    "df"
   ]
  }
 ],
 "metadata": {
  "kernelspec": {
   "display_name": "Python 3 (ipykernel)",
   "language": "python",
   "name": "python3"
  },
  "language_info": {
   "codemirror_mode": {
    "name": "ipython",
    "version": 3
   },
   "file_extension": ".py",
   "mimetype": "text/x-python",
   "name": "python",
   "nbconvert_exporter": "python",
   "pygments_lexer": "ipython3",
   "version": "3.9.12"
  }
 },
 "nbformat": 4,
 "nbformat_minor": 5
}
