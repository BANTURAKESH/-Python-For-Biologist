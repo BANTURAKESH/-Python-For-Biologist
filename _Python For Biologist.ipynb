{
 "cells": [
  {
   "cell_type": "markdown",
   "id": "9a517c54",
   "metadata": {},
   "source": [
    "# CHAPTER 3"
   ]
  },
  {
   "cell_type": "markdown",
   "id": "8122eb9f",
   "metadata": {},
   "source": [
    "# Opening files for reading"
   ]
  },
  {
   "cell_type": "code",
   "execution_count": 8,
   "id": "1b228c00",
   "metadata": {},
   "outputs": [],
   "source": [
    "file = open('fasta_seq')"
   ]
  },
  {
   "cell_type": "code",
   "execution_count": 9,
   "id": "ab7feea4",
   "metadata": {},
   "outputs": [
    {
     "data": {
      "text/plain": [
       "<_io.TextIOWrapper name='fasta_seq' mode='r' encoding='UTF-8'>"
      ]
     },
     "execution_count": 9,
     "metadata": {},
     "output_type": "execute_result"
    }
   ],
   "source": [
    "file"
   ]
  },
  {
   "cell_type": "code",
   "execution_count": 12,
   "id": "f26b370c",
   "metadata": {},
   "outputs": [],
   "source": [
    "file_content = file.read()\n",
    "#print(file_content)"
   ]
  },
  {
   "cell_type": "code",
   "execution_count": 11,
   "id": "d5683120",
   "metadata": {},
   "outputs": [
    {
     "data": {
      "text/plain": [
       "76480"
      ]
     },
     "execution_count": 11,
     "metadata": {},
     "output_type": "execute_result"
    }
   ],
   "source": [
    "len(file_content )"
   ]
  },
  {
   "cell_type": "markdown",
   "id": "ec4b95db",
   "metadata": {},
   "source": [
    "# Opening Files For Writing\n",
    "* To open a file for writing we use a two-argument version of the open function\n",
    "* Where the second argument is a short string describing what we want to do to the file.\n",
    "* \"r\" is for reading \"W\" is for writing.\"a\" is for appending."
   ]
  },
  {
   "cell_type": "code",
   "execution_count": 36,
   "id": "a1fb1396",
   "metadata": {},
   "outputs": [
    {
     "data": {
      "text/plain": [
       "103"
      ]
     },
     "execution_count": 36,
     "metadata": {},
     "output_type": "execute_result"
    }
   ],
   "source": [
    "my_file = open(\"gna_seq.txt\", \"w\")\n",
    "my_file.write('ATCGATCGATCGCTATGCCTTGGCAGCTGCGACGTAGCCGCTACGTAGCTAGCTAGTGCATACCAGGCATTCAGCCATTCAAGCGTATTCGACCGATCGATCG')"
   ]
  },
  {
   "cell_type": "code",
   "execution_count": 37,
   "id": "483bc78b",
   "metadata": {},
   "outputs": [
    {
     "data": {
      "text/plain": [
       "'ATCGATCGATCGCTATGCCTTGGCAGCTGCGACGTAGCCGCTACGTAGCTAGCTAGTGCATACCAGGCATTCAGCCATTCAAGCGTATTCGACCGATCGATCG'"
      ]
     },
     "execution_count": 37,
     "metadata": {},
     "output_type": "execute_result"
    }
   ],
   "source": [
    "my_file = open(\"gna_seq.txt\" , \"r\")\n",
    "my_file_c = my_file.read()\n",
    "my_file_c"
   ]
  },
  {
   "cell_type": "markdown",
   "id": "2bdaf94e",
   "metadata": {},
   "source": [
    "# EXERCISE\n",
    "1. Splitting genomic DNA \n",
    "2. writing a Fasta file\n",
    "3. writing multiple FASTA files"
   ]
  },
  {
   "cell_type": "markdown",
   "id": "b660b7a3",
   "metadata": {},
   "source": [
    "# Splitting genomic DNA"
   ]
  },
  {
   "cell_type": "code",
   "execution_count": 40,
   "id": "4c38f8bc",
   "metadata": {},
   "outputs": [],
   "source": [
    "my_dna = \"ATCGATCGATCGCTATGCCTTGGCAGCTGCGACGTAGCCGCTACGTAGCTAGCTAGTGCATACCAGGCATTCAGCCATTCAAGCGTATTCGACCGATCGATCG\""
   ]
  },
  {
   "cell_type": "code",
   "execution_count": 41,
   "id": "9784c056",
   "metadata": {},
   "outputs": [
    {
     "data": {
      "text/plain": [
       "103"
      ]
     },
     "execution_count": 41,
     "metadata": {},
     "output_type": "execute_result"
    }
   ],
   "source": [
    "len(my_dna)"
   ]
  },
  {
   "cell_type": "code",
   "execution_count": 42,
   "id": "5d90f0c5",
   "metadata": {},
   "outputs": [],
   "source": [
    "exon1 = my_dna[0:50]\n",
    "intron = my_dna[50:90]\n",
    "exon2 = my_dna[90:]"
   ]
  },
  {
   "cell_type": "code",
   "execution_count": 43,
   "id": "f81f6ce8",
   "metadata": {},
   "outputs": [
    {
     "name": "stdout",
     "output_type": "stream",
     "text": [
      "ATCGATCGATCGCTATGCCTTGGCAGCTGCGACGTAGCCGCTACGTAGCTagctagtgcataccaggcattcagccattcaagcgtattcGACCGATCGATCG\n"
     ]
    }
   ],
   "source": [
    "print(exon1 + intron.lower() +exon2)"
   ]
  },
  {
   "cell_type": "code",
   "execution_count": 48,
   "id": "48e7fa45",
   "metadata": {},
   "outputs": [
    {
     "name": "stdout",
     "output_type": "stream",
     "text": [
      "ATCGATCGATCGCTATGCCTTGGCAGCTGCGACGTAGCCGCTACGTAGCTAGCTAGTGCATACCAGGCATTCAGCCATTCAAGCGTATTCGACCGATCGATCG\n"
     ]
    }
   ],
   "source": [
    "# 1. we need to read the DNA sequence from a file instead of writing it in a code\n",
    "\n",
    "dna_file = open(\"out.txt\")\n",
    "my_dna = dna_file.read()\n",
    "print(my_dna)"
   ]
  },
  {
   "cell_type": "code",
   "execution_count": 50,
   "id": "cbc4b769",
   "metadata": {},
   "outputs": [
    {
     "name": "stdout",
     "output_type": "stream",
     "text": [
      "ATCGATCGATCGCTATGCCTTGGCAGCTGCGACGTAGCCGCTACGTAGCTagctagtgcataccaggcattcagccattcaagcgtattcGACCGATCGATCG\n"
     ]
    }
   ],
   "source": [
    "# Extract the different bits of DNA\n",
    "exon1 = my_dna[0:50]\n",
    "intron = my_dna[50:90]\n",
    "exon2 = my_dna[90:]\n",
    "print(exon1 + intron.lower() +exon2)"
   ]
  },
  {
   "cell_type": "code",
   "execution_count": 46,
   "id": "9b839594",
   "metadata": {},
   "outputs": [],
   "source": [
    "#2.We need to create two new file objects to hold the output\n",
    "#open the two output files\n",
    "coding_file = open(\"coding_dna.txt\", \"w\")\n",
    "non_coding_dna = open (\"non_coding_dna.txt\",\"w\")"
   ]
  },
  {
   "cell_type": "code",
   "execution_count": 51,
   "id": "c9055204",
   "metadata": {},
   "outputs": [
    {
     "data": {
      "text/plain": [
       "40"
      ]
     },
     "execution_count": 51,
     "metadata": {},
     "output_type": "execute_result"
    }
   ],
   "source": [
    "#3. finally we need to concatenate the two exon seq and write them in to the coding DNA File.\n",
    " # and write the intron seq to the non-coding DNA file.\n",
    "coding_file.write(exon1 + exon2)\n",
    "non_coding_dna.write(intron)"
   ]
  },
  {
   "cell_type": "code",
   "execution_count": null,
   "id": "5a664d97",
   "metadata": {},
   "outputs": [],
   "source": []
  },
  {
   "cell_type": "markdown",
   "id": "0be92f7e",
   "metadata": {},
   "source": [
    "# writing a FASTA file\n",
    "* writing multiple FASTA files"
   ]
  },
  {
   "cell_type": "code",
   "execution_count": 13,
   "id": "87f29df6",
   "metadata": {},
   "outputs": [],
   "source": [
    "header_1 = \"ABC123\"\n",
    "header_2 = \"RAM456\"\n",
    "header_3 = \"RDA543\"\n",
    "\n",
    "seq_1 = \"ATCGATCGATCGCTATGCCTTGGCAGCTGCGACGTAGCCGCTACGTAGCT\"\n",
    "\n",
    "seq_2 = \"agctagtgcataccaggcattcagccattcaagcgtattc\"\n",
    "\n",
    "seq_3 = \"ATCGATCGATC----CCTTGG---TGCGAC-----CGTAGCT\""
   ]
  },
  {
   "cell_type": "code",
   "execution_count": 14,
   "id": "c3b5327d",
   "metadata": {},
   "outputs": [
    {
     "name": "stdout",
     "output_type": "stream",
     "text": [
      "ABC123\n",
      "ATCGATCGATCGCTATGCCTTGGCAGCTGCGACGTAGCCGCTACGTAGCT\n",
      "RAM456\n",
      "agctagtgcataccaggcattcagccattcaagcgtattc\n",
      "RDA543\n",
      "ATCGATCGATC----CCTTGG---TGCGAC-----CGTAGCT\n"
     ]
    }
   ],
   "source": [
    "print(header_1)\n",
    "print(seq_1)\n",
    "\n",
    "print(header_2)\n",
    "print(seq_2)\n",
    "\n",
    "print(header_3)\n",
    "print(seq_3)"
   ]
  },
  {
   "cell_type": "code",
   "execution_count": 15,
   "id": "3b09bab0",
   "metadata": {},
   "outputs": [
    {
     "name": "stdout",
     "output_type": "stream",
     "text": [
      ">ABC123\n",
      "ATCGATCGATCGCTATGCCTTGGCAGCTGCGACGTAGCCGCTACGTAGCT\n",
      ">RAM456\n",
      "agctagtgcataccaggcattcagccattcaagcgtattc\n",
      ">RDA543\n",
      "ATCGATCGATC----CCTTGG---TGCGAC-----CGTAGCT\n"
     ]
    }
   ],
   "source": [
    "# printing > symbol at the header\n",
    "print('>' + 'ABC123' + '\\n' + seq_1)\n",
    "print('>' + 'RAM456' + '\\n' + seq_2)\n",
    "print('>' + 'RDA543' + '\\n' + seq_3)"
   ]
  },
  {
   "cell_type": "markdown",
   "id": "4e757fe6",
   "metadata": {},
   "source": [
    "# lets Clear some problems in 2nd and 3rd seq"
   ]
  },
  {
   "cell_type": "code",
   "execution_count": 16,
   "id": "054d4c4f",
   "metadata": {},
   "outputs": [
    {
     "name": "stdout",
     "output_type": "stream",
     "text": [
      ">RAM456\n",
      "AGCTAGTGCATACCAGGCATTCAGCCATTCAAGCGTATTC\n"
     ]
    }
   ],
   "source": [
    "# lets make second seq into upper case \n",
    "print('>' + 'RAM456' + '\\n' + seq_2.upper())"
   ]
  },
  {
   "cell_type": "code",
   "execution_count": 17,
   "id": "b4bd7e94",
   "metadata": {},
   "outputs": [
    {
     "name": "stdout",
     "output_type": "stream",
     "text": [
      ">RDA543\n",
      "ATCGATCGATCCCTTGGTGCGACCGTAGCT\n"
     ]
    }
   ],
   "source": [
    "#remove the Gaps in the 3rd seq with replace function(if we replace with empty string the gaps will be removed) \n",
    "print('>' + 'RDA543' + '\\n' + seq_3.replace('-' , ''))"
   ]
  },
  {
   "cell_type": "code",
   "execution_count": 18,
   "id": "cd837a99",
   "metadata": {},
   "outputs": [
    {
     "data": {
      "text/plain": [
       "39"
      ]
     },
     "execution_count": 18,
     "metadata": {},
     "output_type": "execute_result"
    }
   ],
   "source": [
    "# writing the fasta q file\n",
    "\n",
    "final_seqs = open(\"seqs.fasta\",\"w\")\n",
    "\n",
    "final_seqs.write('>' + 'ABC123' + '\\n' + seq_1 + '\\n')\n",
    "final_seqs.write('>' + 'RAM456' + '\\n' + seq_2.upper() + '\\n')\n",
    "final_seqs.write('>' + 'RDA543' + '\\n' + seq_3.replace('-' , '') + '\\n')"
   ]
  }
 ],
 "metadata": {
  "kernelspec": {
   "display_name": "Python 3 (ipykernel)",
   "language": "python",
   "name": "python3"
  },
  "language_info": {
   "codemirror_mode": {
    "name": "ipython",
    "version": 3
   },
   "file_extension": ".py",
   "mimetype": "text/x-python",
   "name": "python",
   "nbconvert_exporter": "python",
   "pygments_lexer": "ipython3",
   "version": "3.9.12"
  }
 },
 "nbformat": 4,
 "nbformat_minor": 5
}
